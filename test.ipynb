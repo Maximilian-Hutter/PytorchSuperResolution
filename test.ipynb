{
 "cells": [
  {
   "cell_type": "code",
   "execution_count": 2,
   "metadata": {},
   "outputs": [
    {
     "name": "stdout",
     "output_type": "stream",
     "text": [
      "tensor([[[0.0157, 0.0196, 0.0235,  ..., 0.0235, 0.0157, 0.0157],\n",
      "         [0.0196, 0.0235, 0.0275,  ..., 0.0353, 0.0353, 0.0314],\n",
      "         [0.0196, 0.0275, 0.0314,  ..., 0.0353, 0.0392, 0.0353],\n",
      "         ...,\n",
      "         [0.0196, 0.0078, 0.0039,  ..., 0.0706, 0.0667, 0.0431],\n",
      "         [0.0157, 0.0157, 0.0157,  ..., 0.0588, 0.0588, 0.0392],\n",
      "         [0.0235, 0.0314, 0.0392,  ..., 0.0471, 0.0510, 0.0353]],\n",
      "\n",
      "        [[0.0157, 0.0196, 0.0235,  ..., 0.0157, 0.0078, 0.0078],\n",
      "         [0.0196, 0.0235, 0.0275,  ..., 0.0275, 0.0275, 0.0235],\n",
      "         [0.0196, 0.0275, 0.0314,  ..., 0.0275, 0.0314, 0.0275],\n",
      "         ...,\n",
      "         [0.0118, 0.0000, 0.0000,  ..., 0.0471, 0.0431, 0.0196],\n",
      "         [0.0078, 0.0078, 0.0078,  ..., 0.0353, 0.0353, 0.0157],\n",
      "         [0.0157, 0.0235, 0.0314,  ..., 0.0235, 0.0275, 0.0118]],\n",
      "\n",
      "        [[0.0078, 0.0118, 0.0157,  ..., 0.0196, 0.0118, 0.0118],\n",
      "         [0.0118, 0.0157, 0.0196,  ..., 0.0314, 0.0314, 0.0275],\n",
      "         [0.0118, 0.0196, 0.0235,  ..., 0.0314, 0.0353, 0.0314],\n",
      "         ...,\n",
      "         [0.0157, 0.0039, 0.0000,  ..., 0.0471, 0.0431, 0.0196],\n",
      "         [0.0118, 0.0118, 0.0118,  ..., 0.0353, 0.0353, 0.0157],\n",
      "         [0.0196, 0.0275, 0.0353,  ..., 0.0235, 0.0275, 0.0118]]])\n"
     ]
    }
   ],
   "source": [
    "from PIL import Image\n",
    "import torchvision.transforms as T\n",
    "img = Image.open(\"C:/Users/Redmi/Downloads/A_black_image.jpg\")\n",
    "\n",
    "transform = T.Compose([T.ToTensor()])\n",
    "\n",
    "img = transform(img)\n",
    "print(img)"
   ]
  },
  {
   "cell_type": "code",
   "execution_count": 3,
   "metadata": {},
   "outputs": [
    {
     "name": "stdout",
     "output_type": "stream",
     "text": [
      "(1000, 1000)\n",
      "(256, 256)\n",
      "(32, 32)\n"
     ]
    }
   ],
   "source": [
    "from PIL import Image\n",
    "import torchvision.transforms as T\n",
    "from datatools import crop_center\n",
    "\n",
    "img = Image.open(\"C:/Users/Redmi/Downloads/A_black_image.jpg\")\n",
    "\n",
    "crop_size = 1000\n",
    "size = (256,256)\n",
    "scale = 8\n",
    "small_size = (int(size[0] / scale), int(size[1] / scale))\n",
    "        \n",
    "\n",
    "label = crop_center(img, crop_size, crop_size)\n",
    "print(label.size)\n",
    "label = label.resize(size)\n",
    "print(label.size)\n",
    "img = label.resize(small_size)\n",
    "print(img.size)\n",
    "\n"
   ]
  },
  {
   "cell_type": "code",
   "execution_count": 7,
   "metadata": {},
   "outputs": [
    {
     "name": "stdout",
     "output_type": "stream",
     "text": [
      "tensor([[[0.0157, 0.0196, 0.0235,  ..., 0.0235, 0.0157, 0.0157],\n",
      "         [0.0196, 0.0235, 0.0275,  ..., 0.0353, 0.0353, 0.0314],\n",
      "         [0.0196, 0.0275, 0.0314,  ..., 0.0353, 0.0392, 0.0353],\n",
      "         ...,\n",
      "         [0.0196, 0.0078, 0.0039,  ..., 0.0706, 0.0667, 0.0431],\n",
      "         [0.0157, 0.0157, 0.0157,  ..., 0.0588, 0.0588, 0.0392],\n",
      "         [0.0235, 0.0314, 0.0392,  ..., 0.0471, 0.0510, 0.0353]],\n",
      "\n",
      "        [[0.0157, 0.0196, 0.0235,  ..., 0.0157, 0.0078, 0.0078],\n",
      "         [0.0196, 0.0235, 0.0275,  ..., 0.0275, 0.0275, 0.0235],\n",
      "         [0.0196, 0.0275, 0.0314,  ..., 0.0275, 0.0314, 0.0275],\n",
      "         ...,\n",
      "         [0.0118, 0.0000, 0.0000,  ..., 0.0471, 0.0431, 0.0196],\n",
      "         [0.0078, 0.0078, 0.0078,  ..., 0.0353, 0.0353, 0.0157],\n",
      "         [0.0157, 0.0235, 0.0314,  ..., 0.0235, 0.0275, 0.0118]],\n",
      "\n",
      "        [[0.0078, 0.0118, 0.0157,  ..., 0.0196, 0.0118, 0.0118],\n",
      "         [0.0118, 0.0157, 0.0196,  ..., 0.0314, 0.0314, 0.0275],\n",
      "         [0.0118, 0.0196, 0.0235,  ..., 0.0314, 0.0353, 0.0314],\n",
      "         ...,\n",
      "         [0.0157, 0.0039, 0.0000,  ..., 0.0471, 0.0431, 0.0196],\n",
      "         [0.0118, 0.0118, 0.0118,  ..., 0.0353, 0.0353, 0.0157],\n",
      "         [0.0196, 0.0275, 0.0353,  ..., 0.0235, 0.0275, 0.0118]]])\n"
     ]
    }
   ],
   "source": [
    "import torch\n",
    "gen_black_pixel = torch.where(img < 0.9, img, 1.)\n",
    "print(gen_black_pixel)"
   ]
  },
  {
   "cell_type": "code",
   "execution_count": 3,
   "metadata": {},
   "outputs": [
    {
     "data": {
      "text/plain": [
       "_CudaDeviceProperties(name='NVIDIA GeForce GTX 1050', major=6, minor=1, total_memory=2047MB, multi_processor_count=5)"
      ]
     },
     "execution_count": 3,
     "metadata": {},
     "output_type": "execute_result"
    }
   ],
   "source": [
    "import torch\n",
    "import torch.cuda\n",
    "torch.cuda.get_device_properties(\"cuda\")"
   ]
  }
 ],
 "metadata": {
  "kernelspec": {
   "display_name": "Python 3.10.7 64-bit (microsoft store)",
   "language": "python",
   "name": "python3"
  },
  "language_info": {
   "codemirror_mode": {
    "name": "ipython",
    "version": 3
   },
   "file_extension": ".py",
   "mimetype": "text/x-python",
   "name": "python",
   "nbconvert_exporter": "python",
   "pygments_lexer": "ipython3",
   "version": "3.10.7"
  },
  "orig_nbformat": 4,
  "vscode": {
   "interpreter": {
    "hash": "b96dac2fdb731018fc7161c6635bc834d096ae64961101d4f967ac31ed74e92f"
   }
  }
 },
 "nbformat": 4,
 "nbformat_minor": 2
}
