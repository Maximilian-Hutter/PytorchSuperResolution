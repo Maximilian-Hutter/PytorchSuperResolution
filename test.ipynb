{
 "cells": [
  {
   "cell_type": "code",
   "execution_count": 2,
   "metadata": {},
   "outputs": [
    {
     "name": "stdout",
     "output_type": "stream",
     "text": [
      "tensor([[[0.0157, 0.0196, 0.0235,  ..., 0.0235, 0.0157, 0.0157],\n",
      "         [0.0196, 0.0235, 0.0275,  ..., 0.0353, 0.0353, 0.0314],\n",
      "         [0.0196, 0.0275, 0.0314,  ..., 0.0353, 0.0392, 0.0353],\n",
      "         ...,\n",
      "         [0.0196, 0.0078, 0.0039,  ..., 0.0706, 0.0667, 0.0431],\n",
      "         [0.0157, 0.0157, 0.0157,  ..., 0.0588, 0.0588, 0.0392],\n",
      "         [0.0235, 0.0314, 0.0392,  ..., 0.0471, 0.0510, 0.0353]],\n",
      "\n",
      "        [[0.0157, 0.0196, 0.0235,  ..., 0.0157, 0.0078, 0.0078],\n",
      "         [0.0196, 0.0235, 0.0275,  ..., 0.0275, 0.0275, 0.0235],\n",
      "         [0.0196, 0.0275, 0.0314,  ..., 0.0275, 0.0314, 0.0275],\n",
      "         ...,\n",
      "         [0.0118, 0.0000, 0.0000,  ..., 0.0471, 0.0431, 0.0196],\n",
      "         [0.0078, 0.0078, 0.0078,  ..., 0.0353, 0.0353, 0.0157],\n",
      "         [0.0157, 0.0235, 0.0314,  ..., 0.0235, 0.0275, 0.0118]],\n",
      "\n",
      "        [[0.0078, 0.0118, 0.0157,  ..., 0.0196, 0.0118, 0.0118],\n",
      "         [0.0118, 0.0157, 0.0196,  ..., 0.0314, 0.0314, 0.0275],\n",
      "         [0.0118, 0.0196, 0.0235,  ..., 0.0314, 0.0353, 0.0314],\n",
      "         ...,\n",
      "         [0.0157, 0.0039, 0.0000,  ..., 0.0471, 0.0431, 0.0196],\n",
      "         [0.0118, 0.0118, 0.0118,  ..., 0.0353, 0.0353, 0.0157],\n",
      "         [0.0196, 0.0275, 0.0353,  ..., 0.0235, 0.0275, 0.0118]]])\n"
     ]
    }
   ],
   "source": [
    "from PIL import Image\n",
    "import torchvision.transforms as T\n",
    "img = Image.open(\"C:/Users/Redmi/Downloads/A_black_image.jpg\")\n",
    "\n",
    "transform = T.Compose([T.ToTensor()])\n",
    "\n",
    "img = transform(img)\n",
    "print(img)"
   ]
  },
  {
   "cell_type": "code",
   "execution_count": 3,
   "metadata": {},
   "outputs": [
    {
     "name": "stdout",
     "output_type": "stream",
     "text": [
      "(1000, 1000)\n",
      "(256, 256)\n",
      "(32, 32)\n"
     ]
    }
   ],
   "source": [
    "from PIL import Image\n",
    "import torchvision.transforms as T\n",
    "from datatools import crop_center\n",
    "\n",
    "img = Image.open(\"C:/Users/Redmi/Downloads/A_black_image.jpg\")\n",
    "\n",
    "crop_size = 1000\n",
    "size = (256,256)\n",
    "scale = 8\n",
    "small_size = (int(size[0] / scale), int(size[1] / scale))\n",
    "        \n",
    "\n",
    "label = crop_center(img, crop_size, crop_size)\n",
    "print(label.size)\n",
    "label = label.resize(size)\n",
    "print(label.size)\n",
    "img = label.resize(small_size)\n",
    "print(img.size)\n",
    "\n"
   ]
  },
  {
   "cell_type": "code",
   "execution_count": 7,
   "metadata": {},
   "outputs": [
    {
     "name": "stdout",
     "output_type": "stream",
     "text": [
      "tensor([[[0.0157, 0.0196, 0.0235,  ..., 0.0235, 0.0157, 0.0157],\n",
      "         [0.0196, 0.0235, 0.0275,  ..., 0.0353, 0.0353, 0.0314],\n",
      "         [0.0196, 0.0275, 0.0314,  ..., 0.0353, 0.0392, 0.0353],\n",
      "         ...,\n",
      "         [0.0196, 0.0078, 0.0039,  ..., 0.0706, 0.0667, 0.0431],\n",
      "         [0.0157, 0.0157, 0.0157,  ..., 0.0588, 0.0588, 0.0392],\n",
      "         [0.0235, 0.0314, 0.0392,  ..., 0.0471, 0.0510, 0.0353]],\n",
      "\n",
      "        [[0.0157, 0.0196, 0.0235,  ..., 0.0157, 0.0078, 0.0078],\n",
      "         [0.0196, 0.0235, 0.0275,  ..., 0.0275, 0.0275, 0.0235],\n",
      "         [0.0196, 0.0275, 0.0314,  ..., 0.0275, 0.0314, 0.0275],\n",
      "         ...,\n",
      "         [0.0118, 0.0000, 0.0000,  ..., 0.0471, 0.0431, 0.0196],\n",
      "         [0.0078, 0.0078, 0.0078,  ..., 0.0353, 0.0353, 0.0157],\n",
      "         [0.0157, 0.0235, 0.0314,  ..., 0.0235, 0.0275, 0.0118]],\n",
      "\n",
      "        [[0.0078, 0.0118, 0.0157,  ..., 0.0196, 0.0118, 0.0118],\n",
      "         [0.0118, 0.0157, 0.0196,  ..., 0.0314, 0.0314, 0.0275],\n",
      "         [0.0118, 0.0196, 0.0235,  ..., 0.0314, 0.0353, 0.0314],\n",
      "         ...,\n",
      "         [0.0157, 0.0039, 0.0000,  ..., 0.0471, 0.0431, 0.0196],\n",
      "         [0.0118, 0.0118, 0.0118,  ..., 0.0353, 0.0353, 0.0157],\n",
      "         [0.0196, 0.0275, 0.0353,  ..., 0.0235, 0.0275, 0.0118]]])\n"
     ]
    }
   ],
   "source": [
    "import torch\n",
    "gen_black_pixel = torch.where(img < 0.9, img, 1.)\n",
    "print(gen_black_pixel)"
   ]
  },
  {
   "cell_type": "code",
   "execution_count": 3,
   "metadata": {},
   "outputs": [
    {
     "data": {
      "text/plain": [
       "_CudaDeviceProperties(name='NVIDIA GeForce GTX 1050', major=6, minor=1, total_memory=2047MB, multi_processor_count=5)"
      ]
     },
     "execution_count": 3,
     "metadata": {},
     "output_type": "execute_result"
    }
   ],
   "source": [
    "import torch\n",
    "import torch.cuda\n",
    "torch.cuda.get_device_properties(\"cuda\")"
   ]
  },
  {
   "cell_type": "code",
   "execution_count": 11,
   "metadata": {},
   "outputs": [
    {
     "name": "stdout",
     "output_type": "stream",
     "text": [
      "tensor(1.0000)\n",
      "tensor(-0.9996)\n",
      "tensor(-0.0019)\n",
      "--------------\n",
      "tensor(0.5793)\n",
      "tensor(-0.0019)\n",
      "--------------\n",
      "tensor(1.0000)\n",
      "tensor(0.0002)\n",
      "tensor(0.4991)\n"
     ]
    }
   ],
   "source": [
    "import torch\n",
    "import torchvision.transforms as T\n",
    "norm = T.Normalize(0.5,0.5)\n",
    "norm2 = T.Normalize(-1,2)\n",
    "tens = torch.rand((2,64,64))\n",
    "tens = norm(tens)\n",
    "print(tens.max())\n",
    "print(tens.min())\n",
    "print(tens.mean())\n",
    "print(\"--------------\")\n",
    "print(tens.std())\n",
    "print(tens.mean())\n",
    "print(\"--------------\")\n",
    "tens = norm2(tens)\n",
    "\n",
    "\n",
    "print(tens.max())\n",
    "print(tens.min())\n",
    "print(tens.mean())\n",
    "\n"
   ]
  },
  {
   "cell_type": "code",
   "execution_count": 90,
   "metadata": {},
   "outputs": [
    {
     "name": "stdout",
     "output_type": "stream",
     "text": [
      "tensor(255.)\n",
      "tensor(0.)\n",
      "-------\n",
      "tensor(0.)\n",
      "tensor(5.0697e-08)\n",
      "tensor(0.)\n",
      "tensor(-0.2479)\n"
     ]
    }
   ],
   "source": [
    "import torch\n",
    "import torch.nn.functional as F\n",
    "import torchvision.transforms.functional as TF\n",
    "from PIL import Image\n",
    "import torchvision.transforms as VT\n",
    "\n",
    "#norm = VT.Normalize(1,2)\n",
    "\n",
    "img = Image.open(\"C:/Users/Redmi/Downloads/test.png\")\n",
    "xtt = TF.to_tensor(img)\n",
    "xptt = TF.pil_to_tensor(img)\n",
    "\n",
    "xtt = xtt.float()\n",
    "xptt = xptt.float()\n",
    "#xptt = norm(xptt)\n",
    "print(xptt.max())\n",
    "print(xptt.min())\n",
    "print(\"-------\")\n",
    "img = xtt\n",
    "xtt = torch.sub(xtt, torch.rand(xtt.size()))\n",
    "xptt = torch.sub(xptt, 5*torch.rand(xptt.size()))\n",
    "\n",
    "# print(F.relu(x))\n",
    "# #print(F.prelu(x))\n",
    "# print(F.elu(x))\n",
    "# #print(F.selu(x))\n",
    "# print(F.silu(x))\n",
    "# print(F.leaky_relu(x))\n",
    "# print(F.relu6(x))\n",
    "divxtt = torch.div(xtt, xtt.max())\n",
    "normxtt = F.normalize(xtt)\n",
    "\n",
    "divxptt = torch.div(xptt, xptt.max())\n",
    "normxptt = F.normalize(xptt)\n",
    "\n",
    "difference1 = torch.sub(img, divxtt)\n",
    "difference2 = torch.sub(img, normxtt)\n",
    "difference3 = torch.sub(img, divxptt)\n",
    "difference4 = torch.sub(img, normxptt)\n",
    "\n",
    "print(difference1.min())\n",
    "print(difference2.min())\n",
    "print(difference3.min())\n",
    "print(difference4.min())\n",
    "\n",
    "divxptt = F.relu(divxptt)\n",
    "divxtt = F.relu(divxtt)\n"
   ]
  },
  {
   "cell_type": "code",
   "execution_count": 91,
   "metadata": {},
   "outputs": [],
   "source": [
    "xtt = TF.to_pil_image(xtt)\n",
    "divxtt = TF.to_pil_image(divxtt)\n",
    "normxtt = TF.to_pil_image(normxtt)\n",
    "xptt = TF.to_pil_image(xptt)\n",
    "divxptt = TF.to_pil_image(divxptt)\n",
    "normxptt = TF.to_pil_image(normxptt)\n",
    "\n",
    "#xtt.show()\n",
    "divxtt.show()\n",
    "#normxtt.show()\n",
    "#xptt.show()\n",
    "divxptt.show()\n",
    "#normxptt.show()"
   ]
  }
 ],
 "metadata": {
  "kernelspec": {
   "display_name": "Python 3.10.7 64-bit (microsoft store)",
   "language": "python",
   "name": "python3"
  },
  "language_info": {
   "codemirror_mode": {
    "name": "ipython",
    "version": 3
   },
   "file_extension": ".py",
   "mimetype": "text/x-python",
   "name": "python",
   "nbconvert_exporter": "python",
   "pygments_lexer": "ipython3",
   "version": "3.10.9"
  },
  "orig_nbformat": 4,
  "vscode": {
   "interpreter": {
    "hash": "b96dac2fdb731018fc7161c6635bc834d096ae64961101d4f967ac31ed74e92f"
   }
  }
 },
 "nbformat": 4,
 "nbformat_minor": 2
}
